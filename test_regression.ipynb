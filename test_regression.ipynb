{
 "cells": [
  {
   "cell_type": "code",
   "execution_count": 1,
   "metadata": {},
   "outputs": [],
   "source": [
    "import pandas as pd\n",
    "import numpy as np\n",
    "import matplotlib.pyplot as plt\n",
    "import os\n",
    "import sys\n",
    "import matplotlib.dates as mdates"
   ]
  },
  {
   "cell_type": "code",
   "execution_count": 2,
   "metadata": {},
   "outputs": [],
   "source": [
    "from raw_data import convert_to_dist, display_graph, regression"
   ]
  },
  {
   "cell_type": "code",
   "execution_count": 3,
   "metadata": {},
   "outputs": [
    {
     "name": "stdout",
     "output_type": "stream",
     "text": [
      "[0.00485199 0.09911659 0.65281373] [0.00626911 0.19144463 1.97886769] [0.00751321 0.26321518 3.01195888]\n"
     ]
    }
   ],
   "source": [
    "c_a1, c_a2, c_a3 = regression(\"sheets/intrinsic.csv\")\n",
    "print(c_a1, c_a2, c_a3)"
   ]
  },
  {
   "cell_type": "code",
   "execution_count": 4,
   "metadata": {},
   "outputs": [
    {
     "name": "stdout",
     "output_type": "stream",
     "text": [
      "Found file: sheets\\3_11_25_test3_2025-03-11_09-38-25.csv\n"
     ]
    }
   ],
   "source": [
    "script_dir = os.path.abspath(os.path.join(os.getcwd(), '..', 'Senior Design', 'scripts'))\n",
    "if script_dir not in sys.path:\n",
    "    sys.path.append(script_dir)\n",
    "    #os.chdir(script_dir)\n",
    "results = convert_to_dist(\"3_11_25_test3_2025-03-11_09-38-25\", [\"E280116060000209FF2351F4\",\"E280116060000209FF238D44\"], c_a1, c_a2, c_a3)"
   ]
  },
  {
   "cell_type": "code",
   "execution_count": 5,
   "metadata": {},
   "outputs": [
    {
     "data": {
      "text/html": [
       "<div>\n",
       "<style scoped>\n",
       "    .dataframe tbody tr th:only-of-type {\n",
       "        vertical-align: middle;\n",
       "    }\n",
       "\n",
       "    .dataframe tbody tr th {\n",
       "        vertical-align: top;\n",
       "    }\n",
       "\n",
       "    .dataframe thead th {\n",
       "        text-align: right;\n",
       "    }\n",
       "</style>\n",
       "<table border=\"1\" class=\"dataframe\">\n",
       "  <thead>\n",
       "    <tr style=\"text-align: right;\">\n",
       "      <th></th>\n",
       "      <th>Timestamp</th>\n",
       "      <th>EPC</th>\n",
       "      <th>TID</th>\n",
       "      <th>Antenna</th>\n",
       "      <th>RSSI</th>\n",
       "      <th>Frequency</th>\n",
       "      <th>Hostname</th>\n",
       "      <th>PhaseAngle</th>\n",
       "      <th>DopplerFrequency</th>\n",
       "      <th>CRHandle</th>\n",
       "      <th>Distance</th>\n",
       "    </tr>\n",
       "  </thead>\n",
       "  <tbody>\n",
       "    <tr>\n",
       "      <th>0</th>\n",
       "      <td>2025-03-11T09:40:37.0704780-06:00</td>\n",
       "      <td>E280116060000209FF2351F4</td>\n",
       "      <td>NaN</td>\n",
       "      <td>1</td>\n",
       "      <td>-33.5</td>\n",
       "      <td>913.75</td>\n",
       "      <td>speedwayr-12-05-fd.local</td>\n",
       "      <td>NaN</td>\n",
       "      <td>NaN</td>\n",
       "      <td>NaN</td>\n",
       "      <td>2.777549</td>\n",
       "    </tr>\n",
       "    <tr>\n",
       "      <th>1</th>\n",
       "      <td>2025-03-11T09:40:37.1002130-06:00</td>\n",
       "      <td>E280116060000209FF238D44</td>\n",
       "      <td>NaN</td>\n",
       "      <td>1</td>\n",
       "      <td>-70.0</td>\n",
       "      <td>913.75</td>\n",
       "      <td>speedwayr-12-05-fd.local</td>\n",
       "      <td>NaN</td>\n",
       "      <td>NaN</td>\n",
       "      <td>NaN</td>\n",
       "      <td>17.489382</td>\n",
       "    </tr>\n",
       "    <tr>\n",
       "      <th>2</th>\n",
       "      <td>2025-03-11T09:40:37.1526820-06:00</td>\n",
       "      <td>E280116060000209FF2351F4</td>\n",
       "      <td>NaN</td>\n",
       "      <td>1</td>\n",
       "      <td>-34.0</td>\n",
       "      <td>913.75</td>\n",
       "      <td>speedwayr-12-05-fd.local</td>\n",
       "      <td>NaN</td>\n",
       "      <td>NaN</td>\n",
       "      <td>NaN</td>\n",
       "      <td>2.891745</td>\n",
       "    </tr>\n",
       "    <tr>\n",
       "      <th>3</th>\n",
       "      <td>2025-03-11T09:40:37.1745630-06:00</td>\n",
       "      <td>E280116060000209FF238D44</td>\n",
       "      <td>NaN</td>\n",
       "      <td>1</td>\n",
       "      <td>-69.5</td>\n",
       "      <td>913.75</td>\n",
       "      <td>speedwayr-12-05-fd.local</td>\n",
       "      <td>NaN</td>\n",
       "      <td>NaN</td>\n",
       "      <td>NaN</td>\n",
       "      <td>17.200515</td>\n",
       "    </tr>\n",
       "    <tr>\n",
       "      <th>4</th>\n",
       "      <td>2025-03-11T09:40:37.2614000-06:00</td>\n",
       "      <td>E280116060000209FF2351F4</td>\n",
       "      <td>NaN</td>\n",
       "      <td>1</td>\n",
       "      <td>-34.0</td>\n",
       "      <td>913.75</td>\n",
       "      <td>speedwayr-12-05-fd.local</td>\n",
       "      <td>NaN</td>\n",
       "      <td>NaN</td>\n",
       "      <td>NaN</td>\n",
       "      <td>2.891745</td>\n",
       "    </tr>\n",
       "  </tbody>\n",
       "</table>\n",
       "</div>"
      ],
      "text/plain": [
       "                           Timestamp                       EPC  TID  Antenna  \\\n",
       "0  2025-03-11T09:40:37.0704780-06:00  E280116060000209FF2351F4  NaN        1   \n",
       "1  2025-03-11T09:40:37.1002130-06:00  E280116060000209FF238D44  NaN        1   \n",
       "2  2025-03-11T09:40:37.1526820-06:00  E280116060000209FF2351F4  NaN        1   \n",
       "3  2025-03-11T09:40:37.1745630-06:00  E280116060000209FF238D44  NaN        1   \n",
       "4  2025-03-11T09:40:37.2614000-06:00  E280116060000209FF2351F4  NaN        1   \n",
       "\n",
       "   RSSI  Frequency                  Hostname  PhaseAngle  DopplerFrequency  \\\n",
       "0 -33.5     913.75  speedwayr-12-05-fd.local         NaN               NaN   \n",
       "1 -70.0     913.75  speedwayr-12-05-fd.local         NaN               NaN   \n",
       "2 -34.0     913.75  speedwayr-12-05-fd.local         NaN               NaN   \n",
       "3 -69.5     913.75  speedwayr-12-05-fd.local         NaN               NaN   \n",
       "4 -34.0     913.75  speedwayr-12-05-fd.local         NaN               NaN   \n",
       "\n",
       "   CRHandle   Distance  \n",
       "0       NaN   2.777549  \n",
       "1       NaN  17.489382  \n",
       "2       NaN   2.891745  \n",
       "3       NaN  17.200515  \n",
       "4       NaN   2.891745  "
      ]
     },
     "execution_count": 5,
     "metadata": {},
     "output_type": "execute_result"
    }
   ],
   "source": [
    "results.head()"
   ]
  }
 ],
 "metadata": {
  "kernelspec": {
   "display_name": "Python 3",
   "language": "python",
   "name": "python3"
  },
  "language_info": {
   "codemirror_mode": {
    "name": "ipython",
    "version": 3
   },
   "file_extension": ".py",
   "mimetype": "text/x-python",
   "name": "python",
   "nbconvert_exporter": "python",
   "pygments_lexer": "ipython3",
   "version": "3.11.9"
  }
 },
 "nbformat": 4,
 "nbformat_minor": 2
}
